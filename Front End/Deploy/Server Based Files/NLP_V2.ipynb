{
 "cells": [
  {
   "cell_type": "code",
   "execution_count": 38,
   "metadata": {},
   "outputs": [],
   "source": [
    "#coding=utf-8 \n",
    "import json  \n",
    "import jieba \n",
    "import numpy as np \n",
    "import matplotlib as mpl \n",
    "import matplotlib.pyplot as plt \n",
    "from sklearn.feature_extraction import DictVectorizer \n",
    "from sklearn.feature_extraction.text import TfidfTransformer \n",
    "from sklearn.svm import LinearSVC \n",
    "from collections import defaultdict\n",
    "import pickle\n",
    "zhfont1 = mpl.font_manager.FontProperties(fname='DejaVuSans.ttf') "
   ]
  },
  {
   "cell_type": "code",
   "execution_count": 45,
   "metadata": {},
   "outputs": [],
   "source": [
    "with open('ppt.pkl', 'rb') as f:\n",
    "    c_words = pickle.load(f)\n",
    "\n",
    "with open('c_svc.pickle', 'rb') as f:\n",
    "    c_svc = pickle.load(f)\n"
   ]
  },
  {
   "cell_type": "code",
   "execution_count": 46,
   "metadata": {},
   "outputs": [],
   "source": [
    "# convert to vectors\n",
    "c_dvec = DictVectorizer()\n",
    "c_tfidf = TfidfTransformer()\n",
    "c_vector = c_dvec.fit_transform(c_words)\n",
    "c_X = c_tfidf.fit_transform(c_vector) "
   ]
  },
  {
   "cell_type": "code",
   "execution_count": 48,
   "metadata": {},
   "outputs": [],
   "source": [
    "#分類留言的情緒\n",
    "def comment_sentiment_classifier(model, dvec, tfidf, text):\n",
    "    l = text.strip() #去頭去尾換行之類的字符\n",
    "    d = defaultdict(int)\n",
    "\n",
    "    for w in jieba.cut(l): # w 是針對 l 中的文字斷詞後所得之詞語        \n",
    "        d[w] += 1\n",
    "\n",
    "    comment_vec = dvec.transform(d)\n",
    "    comment_X = tfidf.transform(comment_vec)\n",
    "    result = model.predict(comment_X)\n",
    "    \n",
    "    if result == 1:\n",
    "        print(1)\n",
    "    else:\n",
    "        print(0)"
   ]
  },
  {
   "cell_type": "code",
   "execution_count": 49,
   "metadata": {},
   "outputs": [
    {
     "name": "stdout",
     "output_type": "stream",
     "text": [
      "hi~ 😄jljl\n",
      "1\n",
      "hi~ 😄\n",
      "1\n",
      "hi~ 😄-1\n",
      "Bye~ See you 😘\n"
     ]
    }
   ],
   "source": [
    "while (1):\n",
    "    s = input('(-1 to st)hi~ 😄')\n",
    "    if s == '-1':\n",
    "        print('Bye~ See you 😘')\n",
    "        break\n",
    "    else:\n",
    "        comment_sentiment_classifier(c_svc, c_dvec, c_tfidf, s)"
   ]
  },
  {
   "cell_type": "code",
   "execution_count": null,
   "metadata": {},
   "outputs": [],
   "source": []
  },
  {
   "cell_type": "code",
   "execution_count": null,
   "metadata": {},
   "outputs": [],
   "source": []
  },
  {
   "cell_type": "code",
   "execution_count": null,
   "metadata": {},
   "outputs": [],
   "source": []
  }
 ],
 "metadata": {
  "kernelspec": {
   "display_name": "Python 3",
   "language": "python",
   "name": "python3"
  },
  "language_info": {
   "codemirror_mode": {
    "name": "ipython",
    "version": 3
   },
   "file_extension": ".py",
   "mimetype": "text/x-python",
   "name": "python",
   "nbconvert_exporter": "python",
   "pygments_lexer": "ipython3",
   "version": "3.5.4"
  }
 },
 "nbformat": 4,
 "nbformat_minor": 2
}
